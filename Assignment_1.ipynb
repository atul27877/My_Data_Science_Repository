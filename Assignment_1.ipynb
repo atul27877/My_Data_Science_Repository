{
 "cells": [
  {
   "cell_type": "markdown",
   "id": "9c32785e",
   "metadata": {},
   "source": [
    "1.In the below elements which of them are values or an expression? \n",
    "\n",
    "eg:- values can be\n",
    "integer or string and expressions will be mathematical operators.\n",
    "\n",
    "*\n",
    "'hello'\n",
    "- 87.8\n",
    "-\n",
    "/\n",
    "+\n",
    "6\n",
    "\n",
    "\n",
    "Answer :\n",
    "Following are operators:\n",
    " *,-,/,+\n",
    "Following are values:\n",
    "  'hello', -87.8, 6\n",
    "\n",
    "\n"
   ]
  },
  {
   "cell_type": "markdown",
   "id": "27ca7bd6",
   "metadata": {},
   "source": [
    "2.What is the difference between string and variable?\n",
    "\n",
    "Answer:\n",
    "\n",
    "Variable\n",
    "\n",
    "-Variable is a name given to the memory location where the values is stored in the memory.\n",
    "-Variables are containers for storing data value, a python variable can take any values like int, float or string. \n",
    "    Example A = 23, B = 23.5, Name = 'Bhanu'\n",
    "\n",
    "String\n",
    "\n",
    "-String represents a text value enclosed with in two double quotes or two single quotes. \n",
    "    Example \"Atul\", \"Sharma\""
   ]
  },
  {
   "cell_type": "markdown",
   "id": "eca14bfb",
   "metadata": {},
   "source": [
    "3.Describe three different data types.\n",
    "\n",
    "Answer:\n",
    "\n",
    "-int - A positive or negative whole number without a decimal point. \n",
    "Example  a = 10\n",
    "\n",
    "-floating point numbers - A positive or negative whole number with a decimal point.\n",
    "Example b = 10.5\n",
    "\n",
    "\n",
    "-string - any text with in two single or double quotes. \n",
    "Example c = 'Atul555'"
   ]
  },
  {
   "cell_type": "code",
   "execution_count": 1,
   "id": "583140b7",
   "metadata": {},
   "outputs": [
    {
     "data": {
      "text/plain": [
       "int"
      ]
     },
     "execution_count": 1,
     "metadata": {},
     "output_type": "execute_result"
    }
   ],
   "source": [
    "a = 10\n",
    "type(a)\n",
    "\n"
   ]
  },
  {
   "cell_type": "code",
   "execution_count": 2,
   "id": "16676127",
   "metadata": {},
   "outputs": [
    {
     "data": {
      "text/plain": [
       "float"
      ]
     },
     "execution_count": 2,
     "metadata": {},
     "output_type": "execute_result"
    }
   ],
   "source": [
    "b = 10.5\n",
    "type(b)"
   ]
  },
  {
   "cell_type": "code",
   "execution_count": 3,
   "id": "2032d7a1",
   "metadata": {},
   "outputs": [
    {
     "data": {
      "text/plain": [
       "str"
      ]
     },
     "execution_count": 3,
     "metadata": {},
     "output_type": "execute_result"
    }
   ],
   "source": [
    "c = 'Atul555'\n",
    "type(c)"
   ]
  },
  {
   "cell_type": "markdown",
   "id": "94fd8625",
   "metadata": {},
   "source": [
    "4.What is an expression made up of? What do all expressions do?\n",
    "\n",
    "Answer:\n",
    "    \n",
    "An expression is made up  of operators and operands that is interpreted to produce some other value.\n",
    "hence expressions perform operation of variable based on the operators and evaluates the values to a single variable.\n",
    "\n",
    "#variables \n",
    "a = 10\n",
    "b = 20\n",
    "\n",
    "#The expression - sum\n",
    "c = a + b\n",
    "\n",
    "c = 10 + 20\n",
    "c = 30"
   ]
  },
  {
   "cell_type": "markdown",
   "id": "6bdf4c5e",
   "metadata": {},
   "source": [
    "5.This assignment statements, like spam = 10. What is the difference between an\n",
    "expression and a statement?\n",
    "\n",
    "Answer:\n",
    "\n",
    "Expressions\n",
    "\n",
    "An expression evaluates to some value.\n",
    "All expressions have types. \"Hello World\" is a string, 5 + 7 is an integer.\n",
    "\n",
    "Examples: \n",
    "\n",
    "\"Hello World\"\n",
    "1000\n",
    "5 + 3\n",
    "\n",
    "Statements\n",
    "A statement performs some action.\n",
    "\n",
    "\n",
    "Examples\n",
    "print(\"Hello World\")\n",
    "sleep(1000)\n",
    "\n",
    "\n",
    "\n",
    "\n"
   ]
  },
  {
   "cell_type": "markdown",
   "id": "40d338b5",
   "metadata": {},
   "source": [
    "6. After running the following code, what does the variable bacon contain?\n",
    "bacon = 22\n",
    "bacon + 1\n",
    "\n",
    "\n",
    "Answer:\n",
    "\n",
    "becon will still have value 22.\n",
    "\n",
    "The becon is assinged with 22, but becon + 1 is not reassigned to becon again like, becon= becon + 1. So the value of becon is not changed.\n"
   ]
  },
  {
   "cell_type": "code",
   "execution_count": 5,
   "id": "28434692",
   "metadata": {},
   "outputs": [
    {
     "name": "stdout",
     "output_type": "stream",
     "text": [
      "c =  23\n",
      "bacon =  22\n"
     ]
    }
   ],
   "source": [
    "bacon = 22\n",
    "c = bacon + 1\n",
    "print('c = ',c)\n",
    "print('bacon = ',bacon)"
   ]
  },
  {
   "cell_type": "markdown",
   "id": "0227c4ce",
   "metadata": {},
   "source": [
    "7.What should the values of the following two terms be?\n",
    "'spam' + 'spamspam'\n",
    "'spam' * 3\n",
    "\n",
    "Answer: Both outputs 'spamspamspam'`\n"
   ]
  },
  {
   "cell_type": "code",
   "execution_count": 6,
   "id": "1cd024ec",
   "metadata": {},
   "outputs": [
    {
     "data": {
      "text/plain": [
       "'spamspamspam'"
      ]
     },
     "execution_count": 6,
     "metadata": {},
     "output_type": "execute_result"
    }
   ],
   "source": [
    "'spam'+'spamspam'"
   ]
  },
  {
   "cell_type": "code",
   "execution_count": 7,
   "id": "17c87736",
   "metadata": {},
   "outputs": [
    {
     "data": {
      "text/plain": [
       "'spamspamspam'"
      ]
     },
     "execution_count": 7,
     "metadata": {},
     "output_type": "execute_result"
    }
   ],
   "source": [
    "'spam'*3"
   ]
  },
  {
   "cell_type": "markdown",
   "id": "09b8ab4c",
   "metadata": {},
   "source": [
    "8.Why is eggs a valid variable name while 100 is invalid?\n",
    "\n",
    "Answer:\n",
    "-Variable name can not starts with numbers.\n"
   ]
  },
  {
   "cell_type": "code",
   "execution_count": 8,
   "id": "aeb9639d",
   "metadata": {},
   "outputs": [
    {
     "data": {
      "text/plain": [
       "10"
      ]
     },
     "execution_count": 8,
     "metadata": {},
     "output_type": "execute_result"
    }
   ],
   "source": [
    "eggs = 10\n",
    "eggs"
   ]
  },
  {
   "cell_type": "code",
   "execution_count": 9,
   "id": "b2fef23c",
   "metadata": {},
   "outputs": [
    {
     "ename": "SyntaxError",
     "evalue": "cannot assign to literal (1670676310.py, line 1)",
     "output_type": "error",
     "traceback": [
      "\u001b[1;36m  Input \u001b[1;32mIn [9]\u001b[1;36m\u001b[0m\n\u001b[1;33m    100 = \"hundreds\"\u001b[0m\n\u001b[1;37m    ^\u001b[0m\n\u001b[1;31mSyntaxError\u001b[0m\u001b[1;31m:\u001b[0m cannot assign to literal\n"
     ]
    }
   ],
   "source": [
    "100 = \"hundreds\"\n",
    "100"
   ]
  },
  {
   "cell_type": "markdown",
   "id": "81efa757",
   "metadata": {},
   "source": [
    "9. What three functions can be used to get the integer, floating-point number, or string version of a value?\n",
    "\n",
    "Answer: \n",
    "\n",
    "The following functions\n",
    "- int()\n",
    "- float()\n",
    "- str()  will convert the values of integer, float or string versions of the values passed to it."
   ]
  },
  {
   "cell_type": "markdown",
   "id": "c289cdf9",
   "metadata": {},
   "source": [
    "10.Why does this expression cause an error? How can you fix it? 'I have eaten ' + 99 + ' burritos.'\n",
    "\n",
    "Answer:\n",
    "\n",
    "-This will error out since string concatination with interger values can not be performed.\n",
    "This can be fixed by converting 99 into string by str(99)"
   ]
  },
  {
   "cell_type": "code",
   "execution_count": 10,
   "id": "749a54e0",
   "metadata": {},
   "outputs": [
    {
     "ename": "TypeError",
     "evalue": "can only concatenate str (not \"int\") to str",
     "output_type": "error",
     "traceback": [
      "\u001b[1;31m---------------------------------------------------------------------------\u001b[0m",
      "\u001b[1;31mTypeError\u001b[0m                                 Traceback (most recent call last)",
      "Input \u001b[1;32mIn [10]\u001b[0m, in \u001b[0;36m<cell line: 1>\u001b[1;34m()\u001b[0m\n\u001b[1;32m----> 1\u001b[0m \u001b[38;5;124;43m'\u001b[39;49m\u001b[38;5;124;43mi have eaten\u001b[39;49m\u001b[38;5;124;43m'\u001b[39;49m\u001b[43m \u001b[49m\u001b[38;5;241;43m+\u001b[39;49m\u001b[43m \u001b[49m\u001b[38;5;241;43m99\u001b[39;49m \u001b[38;5;241m+\u001b[39m \u001b[38;5;124m'\u001b[39m\u001b[38;5;124mburritos\u001b[39m\u001b[38;5;124m'\u001b[39m\n",
      "\u001b[1;31mTypeError\u001b[0m: can only concatenate str (not \"int\") to str"
     ]
    }
   ],
   "source": [
    "'i have eaten' + 99 + 'burritos'"
   ]
  },
  {
   "cell_type": "code",
   "execution_count": 11,
   "id": "831b9e70",
   "metadata": {},
   "outputs": [
    {
     "data": {
      "text/plain": [
       "'i have eaten 99 burritos.'"
      ]
     },
     "execution_count": 11,
     "metadata": {},
     "output_type": "execute_result"
    }
   ],
   "source": [
    "'i have eaten ' + str(99) + ' burritos.'"
   ]
  },
  {
   "cell_type": "code",
   "execution_count": null,
   "id": "a0edf511",
   "metadata": {},
   "outputs": [],
   "source": []
  }
 ],
 "metadata": {
  "kernelspec": {
   "display_name": "Python 3 (ipykernel)",
   "language": "python",
   "name": "python3"
  },
  "language_info": {
   "codemirror_mode": {
    "name": "ipython",
    "version": 3
   },
   "file_extension": ".py",
   "mimetype": "text/x-python",
   "name": "python",
   "nbconvert_exporter": "python",
   "pygments_lexer": "ipython3",
   "version": "3.9.12"
  }
 },
 "nbformat": 4,
 "nbformat_minor": 5
}
